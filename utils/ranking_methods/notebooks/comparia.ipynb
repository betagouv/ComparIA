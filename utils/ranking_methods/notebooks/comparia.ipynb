{
 "cells": [
  {
   "cell_type": "code",
   "execution_count": 1,
   "id": "67c5d929-3996-48b2-9894-0efdbb7fe6c1",
   "metadata": {},
   "outputs": [],
   "source": [
    "#from getpass import getpass\n",
    "import os\n",
    "from pathlib import Path"
   ]
  },
  {
   "cell_type": "code",
   "execution_count": 2,
   "id": "4d67f942-bcb5-4289-957b-4adbd5d32ffc",
   "metadata": {},
   "outputs": [
    {
     "name": "stdout",
     "output_type": "stream",
     "text": [
      "HuggingFace token (puis presser Entrée):\n",
      " ········\n"
     ]
    }
   ],
   "source": [
    "import os\n",
    "from getpass import getpass\n",
    "\n",
    "#cache_dir = input(\"Indicate path to all Hugging Face caches:\")\n",
    "cache_dir = \"cache\"\n",
    "os.environ[\"HF_DATASETS_CACHE\"] = cache_dir\n",
    "os.environ[\"HF_HUB_CACHE\"] = cache_dir\n",
    "#os.environ[\"HF_TOKEN\"] = getpass(f\"HuggingFace token (puis presser Entrée):\\n\")\n",
    "\n",
    "try:\n",
    "    from google.colab import userdata\n",
    "    os.environ[\"HF_TOKEN\"] = userdata.get('HF_TOKEN')\n",
    "except:\n",
    "  os.environ[\"HF_TOKEN\"] = getpass(f\"HuggingFace token (puis presser Entrée):\\n\")"
   ]
  },
  {
   "cell_type": "code",
   "execution_count": null,
   "id": "8d035c09-cb24-42d7-88ea-54c3a3a5406b",
   "metadata": {},
   "outputs": [
    {
     "ename": "ImportError",
     "evalue": "attempted relative import with no known parent package",
     "output_type": "error",
     "traceback": [
      "\u001b[31m---------------------------------------------------------------------------\u001b[39m",
      "\u001b[31mImportError\u001b[39m                               Traceback (most recent call last)",
      "\u001b[36mCell\u001b[39m\u001b[36m \u001b[39m\u001b[32mIn[7]\u001b[39m\u001b[32m, line 1\u001b[39m\n\u001b[32m----> \u001b[39m\u001b[32m1\u001b[39m \u001b[38;5;28;01mfrom\u001b[39;00m\u001b[38;5;250m \u001b[39m\u001b[34;01m.\u001b[39;00m\u001b[34;01mpipeline\u001b[39;00m\u001b[38;5;250m \u001b[39m\u001b[38;5;28;01mimport\u001b[39;00m RankingPipeline\n\u001b[32m      3\u001b[39m pipeline = RankingPipeline(\n\u001b[32m      4\u001b[39m     method=\u001b[33m\"\u001b[39m\u001b[33melo_random\u001b[39m\u001b[33m\"\u001b[39m,\n\u001b[32m      5\u001b[39m     include_votes=\u001b[38;5;28;01mTrue\u001b[39;00m,\n\u001b[32m   (...)\u001b[39m\u001b[32m     11\u001b[39m     models_data=Path(\u001b[33m\"\u001b[39m\u001b[33m/content/ranking_methods/data/models_data.json\u001b[39m\u001b[33m\"\u001b[39m)\n\u001b[32m     12\u001b[39m )\n\u001b[32m     14\u001b[39m \u001b[38;5;66;03m#ranker = pipeline.ranker\u001b[39;00m\n",
      "\u001b[31mImportError\u001b[39m: attempted relative import with no known parent package"
     ]
    }
   ],
   "source": [
    "from pipeline import RankingPipeline\n",
    "\n",
    "pipeline = RankingPipeline(\n",
    "    method=\"elo_random\",\n",
    "    include_votes=True,\n",
    "    include_reactions=True,\n",
    "    bootstrap_samples=5, # 100\n",
    "    mean_how=\"token\",\n",
    "    batch=False,\n",
    "    export_path=Path(\"output\"),\n",
    "    models_data=Path(\"data/models_data.json\")\n",
    ")\n",
    "\n",
    "#ranker = pipeline.ranker\n",
    "scores = pipeline.run()"
   ]
  }
 ],
 "metadata": {
  "kernelspec": {
   "display_name": "Python 3 (ipykernel)",
   "language": "python",
   "name": "python3"
  },
  "language_info": {
   "codemirror_mode": {
    "name": "ipython",
    "version": 3
   },
   "file_extension": ".py",
   "mimetype": "text/x-python",
   "name": "python",
   "nbconvert_exporter": "python",
   "pygments_lexer": "ipython3",
   "version": "3.11.9"
  }
 },
 "nbformat": 4,
 "nbformat_minor": 5
}
