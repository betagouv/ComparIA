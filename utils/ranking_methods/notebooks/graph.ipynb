{
 "cells": [
  {
   "cell_type": "markdown",
   "id": "d32ed4fe-c3c5-4fcb-8d5d-d37830cb3f39",
   "metadata": {},
   "source": [
    "### <span style=\"color:pink\">Load Data</span>"
   ]
  },
  {
   "cell_type": "code",
   "execution_count": null,
   "id": "e540e131-98bc-47b8-a4b4-fb8ab642157a",
   "metadata": {
    "scrolled": true
   },
   "outputs": [],
   "source": [
    "import os\n",
    "from getpass import getpass\n",
    "\n",
    "cache_dir = input(\"Indicate path to all Hugging Face caches:\")\n",
    "os.environ[\"HF_DATASETS_CACHE\"] = cache_dir\n",
    "os.environ[\"HF_HUB_CACHE\"] = cache_dir\n",
    "os.environ[\"HF_TOKEN\"] = getpass(\"Enter your HuggingFace token:\")"
   ]
  },
  {
   "cell_type": "code",
   "execution_count": 6,
   "id": "2ccf2e5d",
   "metadata": {},
   "outputs": [
    {
     "name": "stderr",
     "output_type": "stream",
     "text": [
      "Using the latest cached version of the dataset since ministere-culture/comparia-votes couldn't be found on the Hugging Face Hub (offline mode is enabled).\n",
      "Found the latest cached dataset configuration 'default' at /home/jupyterhub-users/shared/projet_comparia/huggingface_hub/ministere-culture___comparia-votes/default/0.0.0/679f56e14f413546403b3468d717c4417e394326 (last modified on Mon Jul 28 10:06:44 2025).\n",
      "Using the latest cached version of the dataset since ministere-culture/comparia-conversations couldn't be found on the Hugging Face Hub (offline mode is enabled).\n",
      "Found the latest cached dataset configuration 'default' at /home/jupyterhub-users/shared/projet_comparia/huggingface_hub/ministere-culture___comparia-conversations/default/0.0.0/dc40af6af1c14e68bf39d55f6e1573d2d6582f19 (last modified on Wed Jun  4 17:40:30 2025).\n"
     ]
    }
   ],
   "source": [
    "from rank_comparia.utils import load_comparia\n",
    "\n",
    "votes = load_comparia(\"ministere-culture/comparia-votes\")"
   ]
  },
  {
   "cell_type": "code",
   "execution_count": 7,
   "id": "f4265a37-cc52-4c1d-b9bf-dc56e7ff413c",
   "metadata": {},
   "outputs": [],
   "source": [
    "from rank_comparia.utils_graph_d3 import get_df_source_sink_timestamp, create_graph_json\n",
    "\n",
    "df = get_df_source_sink_timestamp(votes, None)"
   ]
  },
  {
   "cell_type": "code",
   "execution_count": 8,
   "id": "310e3703-9825-40d8-b581-682184b6d0d0",
   "metadata": {},
   "outputs": [
    {
     "name": "stderr",
     "output_type": "stream",
     "text": [
      "/home/jupyterhub-users/rgallienne/rank-comparia/.venv/lib/python3.11/site-packages/networkx/readwrite/json_graph/node_link.py:145: FutureWarning: \n",
      "The default value will be `edges=\"edges\" in NetworkX 3.6.\n",
      "\n",
      "To make this warning go away, explicitly set the edges kwarg, e.g.:\n",
      "\n",
      "  nx.node_link_data(G, edges=\"links\") to preserve current behavior, or\n",
      "  nx.node_link_data(G, edges=\"edges\") for forward compatibility.\n",
      "  warnings.warn(\n"
     ]
    }
   ],
   "source": [
    "create_graph_json(df, \"comparIA_graph.json\", var1=\"source_node_model_loser\", var2=\"sink_node_model_winner\")"
   ]
  },
  {
   "cell_type": "code",
   "execution_count": 9,
   "id": "98fb8814-4f53-4f9e-abf4-314ff61a8f0f",
   "metadata": {},
   "outputs": [
    {
     "data": {
      "text/html": [
       "<div><style>\n",
       ".dataframe > thead > tr,\n",
       ".dataframe > tbody > tr {\n",
       "  text-align: right;\n",
       "  white-space: pre-wrap;\n",
       "}\n",
       "</style>\n",
       "<small>shape: (5, 8)</small><table border=\"1\" class=\"dataframe\"><thead><tr><th>id</th><th>timestamp</th><th>sink_node_model_winner</th><th>source_node_model_loser</th><th>timestamp_iso</th><th>month</th><th>day</th><th>year</th></tr><tr><td>i64</td><td>datetime[ns]</td><td>str</td><td>str</td><td>str</td><td>i8</td><td>i8</td><td>i32</td></tr></thead><tbody><tr><td>4673</td><td>2024-10-01 04:18:43.548967</td><td>&quot;mixtral-8x7b-instruct-v0.1&quot;</td><td>&quot;qwen2-7b-instruct&quot;</td><td>&quot;2024-10-01T04:18:43Z&quot;</td><td>10</td><td>1</td><td>2024</td></tr><tr><td>205</td><td>2024-10-01 08:12:50.152633</td><td>&quot;llama-3.1-70b&quot;</td><td>&quot;mistral-nemo-2407&quot;</td><td>&quot;2024-10-01T08:12:50Z&quot;</td><td>10</td><td>1</td><td>2024</td></tr><tr><td>219</td><td>2024-10-01 08:43:39.530581</td><td>&quot;llama-3.1-405b&quot;</td><td>&quot;c4ai-command-r-08-2024&quot;</td><td>&quot;2024-10-01T08:43:39Z&quot;</td><td>10</td><td>1</td><td>2024</td></tr><tr><td>10521</td><td>2024-10-01 09:13:59.796119</td><td>&quot;gemini-1.5-pro-001&quot;</td><td>&quot;mistral-nemo-2407&quot;</td><td>&quot;2024-10-01T09:13:59Z&quot;</td><td>10</td><td>1</td><td>2024</td></tr><tr><td>247</td><td>2024-10-01 09:53:41.848495</td><td>&quot;llama-3.1-70b&quot;</td><td>&quot;phi-3.5-mini-instruct&quot;</td><td>&quot;2024-10-01T09:53:41Z&quot;</td><td>10</td><td>1</td><td>2024</td></tr></tbody></table></div>"
      ],
      "text/plain": [
       "shape: (5, 8)\n",
       "┌───────┬─────────────────┬─────────────────┬────────────────┬────────────────┬───────┬─────┬──────┐\n",
       "│ id    ┆ timestamp       ┆ sink_node_model ┆ source_node_mo ┆ timestamp_iso  ┆ month ┆ day ┆ year │\n",
       "│ ---   ┆ ---             ┆ _winner         ┆ del_loser      ┆ ---            ┆ ---   ┆ --- ┆ ---  │\n",
       "│ i64   ┆ datetime[ns]    ┆ ---             ┆ ---            ┆ str            ┆ i8    ┆ i8  ┆ i32  │\n",
       "│       ┆                 ┆ str             ┆ str            ┆                ┆       ┆     ┆      │\n",
       "╞═══════╪═════════════════╪═════════════════╪════════════════╪════════════════╪═══════╪═════╪══════╡\n",
       "│ 4673  ┆ 2024-10-01      ┆ mixtral-8x7b-in ┆ qwen2-7b-instr ┆ 2024-10-01T04: ┆ 10    ┆ 1   ┆ 2024 │\n",
       "│       ┆ 04:18:43.548967 ┆ struct-v0.1     ┆ uct            ┆ 18:43Z         ┆       ┆     ┆      │\n",
       "│ 205   ┆ 2024-10-01      ┆ llama-3.1-70b   ┆ mistral-nemo-2 ┆ 2024-10-01T08: ┆ 10    ┆ 1   ┆ 2024 │\n",
       "│       ┆ 08:12:50.152633 ┆                 ┆ 407            ┆ 12:50Z         ┆       ┆     ┆      │\n",
       "│ 219   ┆ 2024-10-01      ┆ llama-3.1-405b  ┆ c4ai-command-r ┆ 2024-10-01T08: ┆ 10    ┆ 1   ┆ 2024 │\n",
       "│       ┆ 08:43:39.530581 ┆                 ┆ -08-2024       ┆ 43:39Z         ┆       ┆     ┆      │\n",
       "│ 10521 ┆ 2024-10-01      ┆ gemini-1.5-pro- ┆ mistral-nemo-2 ┆ 2024-10-01T09: ┆ 10    ┆ 1   ┆ 2024 │\n",
       "│       ┆ 09:13:59.796119 ┆ 001             ┆ 407            ┆ 13:59Z         ┆       ┆     ┆      │\n",
       "│ 247   ┆ 2024-10-01      ┆ llama-3.1-70b   ┆ phi-3.5-mini-i ┆ 2024-10-01T09: ┆ 10    ┆ 1   ┆ 2024 │\n",
       "│       ┆ 09:53:41.848495 ┆                 ┆ nstruct        ┆ 53:41Z         ┆       ┆     ┆      │\n",
       "└───────┴─────────────────┴─────────────────┴────────────────┴────────────────┴───────┴─────┴──────┘"
      ]
     },
     "execution_count": 9,
     "metadata": {},
     "output_type": "execute_result"
    }
   ],
   "source": [
    "df.head()"
   ]
  },
  {
   "cell_type": "code",
   "execution_count": 10,
   "id": "bb520ca5-85c8-4c90-afef-a7a444b162df",
   "metadata": {},
   "outputs": [
    {
     "data": {
      "text/html": [
       "<div><style>\n",
       ".dataframe > thead > tr,\n",
       ".dataframe > tbody > tr {\n",
       "  text-align: right;\n",
       "  white-space: pre-wrap;\n",
       "}\n",
       "</style>\n",
       "<small>shape: (10, 1)</small><table border=\"1\" class=\"dataframe\"><thead><tr><th>sink_node_model_winner</th></tr><tr><td>struct[2]</td></tr></thead><tbody><tr><td>{&quot;llama-3.1-405b&quot;,2426}</td></tr><tr><td>{&quot;llama-3.1-70b&quot;,1825}</td></tr><tr><td>{&quot;deepseek-v3-chat&quot;,1751}</td></tr><tr><td>{&quot;ministral-8b-instruct-2410&quot;,1720}</td></tr><tr><td>{&quot;mistral-large-2411&quot;,1704}</td></tr><tr><td>{&quot;gpt-4o-mini-2024-07-18&quot;,1699}</td></tr><tr><td>{&quot;gemma-2-9b-it&quot;,1452}</td></tr><tr><td>{&quot;gemini-1.5-pro-002&quot;,1387}</td></tr><tr><td>{&quot;gemini-1.5-pro-001&quot;,1386}</td></tr><tr><td>{&quot;claude-3-5-sonnet-v2&quot;,1310}</td></tr></tbody></table></div>"
      ],
      "text/plain": [
       "shape: (10, 1)\n",
       "┌─────────────────────────────────┐\n",
       "│ sink_node_model_winner          │\n",
       "│ ---                             │\n",
       "│ struct[2]                       │\n",
       "╞═════════════════════════════════╡\n",
       "│ {\"llama-3.1-405b\",2426}         │\n",
       "│ {\"llama-3.1-70b\",1825}          │\n",
       "│ {\"deepseek-v3-chat\",1751}       │\n",
       "│ {\"ministral-8b-instruct-2410\",… │\n",
       "│ {\"mistral-large-2411\",1704}     │\n",
       "│ {\"gpt-4o-mini-2024-07-18\",1699… │\n",
       "│ {\"gemma-2-9b-it\",1452}          │\n",
       "│ {\"gemini-1.5-pro-002\",1387}     │\n",
       "│ {\"gemini-1.5-pro-001\",1386}     │\n",
       "│ {\"claude-3-5-sonnet-v2\",1310}   │\n",
       "└─────────────────────────────────┘"
      ]
     },
     "execution_count": 10,
     "metadata": {},
     "output_type": "execute_result"
    }
   ],
   "source": [
    "import polars as pl\n",
    "\n",
    "df.select(pl.col(\"sink_node_model_winner\").value_counts(sort=True)).head(10)"
   ]
  },
  {
   "cell_type": "code",
   "execution_count": null,
   "id": "7b623bda",
   "metadata": {},
   "outputs": [],
   "source": []
  }
 ],
 "metadata": {
  "kernelspec": {
   "display_name": "compariaenv",
   "language": "python",
   "name": "compariaenv"
  },
  "language_info": {
   "codemirror_mode": {
    "name": "ipython",
    "version": 3
   },
   "file_extension": ".py",
   "mimetype": "text/x-python",
   "name": "python",
   "nbconvert_exporter": "python",
   "pygments_lexer": "ipython3",
   "version": "3.11.2"
  }
 },
 "nbformat": 4,
 "nbformat_minor": 5
}
